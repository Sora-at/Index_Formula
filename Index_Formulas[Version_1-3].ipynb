{
 "cells": [
  {
   "cell_type": "code",
   "execution_count": 1,
   "metadata": {},
   "outputs": [
    {
     "name": "stderr",
     "output_type": "stream",
     "text": [
      "C:\\Users\\gistd\\anaconda3\\lib\\site-packages\\openpyxl\\worksheet\\header_footer.py:48: UserWarning: Cannot parse header or footer so it will be ignored\n",
      "  warn(\"\"\"Cannot parse header or footer so it will be ignored\"\"\")\n"
     ]
    }
   ],
   "source": [
    "import pandas as pd\n",
    "import numpy as np\n",
    "import math\n",
    "from math import sqrt\n",
    "df = pd.read_excel(r'D:\\Drive2\\Work_Sentinal\\Excel_result\\Yield\\Supan2022_PPR\\SB_20221227_PPR.xlsx') #input location file\n",
    "#df"
   ]
  },
  {
   "cell_type": "code",
   "execution_count": 2,
   "metadata": {},
   "outputs": [],
   "source": [
    "#df.insert(loc=12, column='B1',value=0)"
   ]
  },
  {
   "cell_type": "code",
   "execution_count": 3,
   "metadata": {},
   "outputs": [],
   "source": [
    "#Define type value if B1 = integer,B1-B12 / 10000 ,else(meaning B1 = float),return dafault value B1-B12\n",
    "v1 = df.B1/10000\n",
    "v2 = df.B2/10000\n",
    "v3 = df.B3/10000\n",
    "v4 = df.B4/10000\n",
    "v5 = df.B5/10000\n",
    "v6 = df.B6/10000\n",
    "v7 = df.B7/10000\n",
    "v8 = df.B8/10000\n",
    "v8A = df.B8A/10000\n",
    "v9 = df.B9/10000\n",
    "v11 = df.B11/10000\n",
    "v12 = df.B12/10000\n",
    "for value in df['B2']:\n",
    "    if isinstance(value,int):  \n",
    "        df.B1 = v1\n",
    "        df.B2 = v2\n",
    "        df.B3 = v3\n",
    "        df.B4 = v4\n",
    "        df.B5 = v5\n",
    "        df.B6 = v6\n",
    "        df.B7 = v7\n",
    "        df.B8 = v8\n",
    "        df.B8A = v8A\n",
    "        df.B9 = v9\n",
    "        df.B11 = v11\n",
    "        df.B12 = v12  \n",
    "    #else: \n"
   ]
  },
  {
   "cell_type": "code",
   "execution_count": 4,
   "metadata": {},
   "outputs": [],
   "source": [
    "rb = (1.0 * df.B4) - 1 * (1.0 * df.B2 - 1.0 * df.B4)\n",
    "df['ARVI']=(1.0 * df.B8 - rb) / (1.0 * df.B8 + rb)"
   ]
  },
  {
   "cell_type": "code",
   "execution_count": 5,
   "metadata": {},
   "outputs": [],
   "source": [
    "df['BI']=np.sqrt( ( (df.B4*df.B4)+(df.B3*df.B3) )/2 )"
   ]
  },
  {
   "cell_type": "code",
   "execution_count": 6,
   "metadata": {},
   "outputs": [],
   "source": [
    "df['BI2']=np.sqrt( ( (1.0 * df.B4 * 1.0 * df.B4) + (1.0 * df.B3 * 1.0 * df.B3) + (1.0 * df.B8 * 1.0 * df.B8) ) / 3 )"
   ]
  },
  {
   "cell_type": "code",
   "execution_count": 7,
   "metadata": {},
   "outputs": [],
   "source": [
    "df['CI']=(1.0*df.B4-1.0*df.B3)/(1.0*df.B4+1.0*df.B3)"
   ]
  },
  {
   "cell_type": "code",
   "execution_count": 8,
   "metadata": {},
   "outputs": [],
   "source": [
    "df['DVI']=(1*df.B8-1*df.B4)"
   ]
  },
  {
   "cell_type": "code",
   "execution_count": 9,
   "metadata": {},
   "outputs": [],
   "source": [
    "df['EVI']=((df.B8 - df.B4) / (df.B8 + (6 * df.B4) - (7.5 * df.B2) + 1)) * 2.5"
   ]
  },
  {
   "cell_type": "code",
   "execution_count": 10,
   "metadata": {},
   "outputs": [],
   "source": [
    "eta = (2 * (1.0 *df.B8A * 1.0 * df.B8A - 1.0 * df.B4 * 1.0 * df.B4) + 1.5 * 1.0 * df.B8A + 0.5 * 1.0 * df.B4) / (1.0 * df.B8A + 1.0 * df.B4 + 0.5)\n",
    "df['GEMI']=eta * (1 - 0.25 * eta) - (1.0 * df.B4 - 0.125) / (1 -1.0 * df.B4)"
   ]
  },
  {
   "cell_type": "code",
   "execution_count": 11,
   "metadata": {},
   "outputs": [],
   "source": [
    "df['GNDVI']=(1*df.B8-1*df.B3)/(1*df.B8+1*df.B3)"
   ]
  },
  {
   "cell_type": "code",
   "execution_count": 12,
   "metadata": {},
   "outputs": [],
   "source": [
    "NDVI=(df.B8-df.B4)/(df.B8+df.B4)\n",
    "df['IPVI']=1/2*(NDVI+1)"
   ]
  },
  {
   "cell_type": "code",
   "execution_count": 13,
   "metadata": {},
   "outputs": [],
   "source": [
    "df['IRECI']=(df.B7-df.B4)/(df.B5/df.B6)"
   ]
  },
  {
   "cell_type": "code",
   "execution_count": 14,
   "metadata": {},
   "outputs": [],
   "source": [
    "df['MCARI']=((df.B5-df.B4)-0.2*(df.B5-df.B3))*(df.B5/df.B4)"
   ]
  },
  {
   "cell_type": "code",
   "execution_count": 15,
   "metadata": {},
   "outputs": [],
   "source": [
    "df['MNDWI']=(df.B3-df.B12)/(df.B3+df.B12)"
   ]
  },
  {
   "cell_type": "code",
   "execution_count": 16,
   "metadata": {},
   "outputs": [],
   "source": [
    "NDVI=(df.B8-df.B4)/(df.B8+df.B4)\n",
    "WDVI=(df.B8-0.5*df.B4)\n",
    "L = 1-2*0.5*NDVI*WDVI \n",
    "df['MSAVI']=( 1+ L )*((1*df.B8-1*df.B4)/(1*df.B8+1*df.B4+ L ))"
   ]
  },
  {
   "cell_type": "code",
   "execution_count": 17,
   "metadata": {},
   "outputs": [],
   "source": [
    "df['MSAVI2']=(1/2)*(2*(1*df.B8+1)-np.sqrt((2*1*df.B8+1)*(2*1*df.B8+1)-8*(1*df.B8-1*df.B4)))"
   ]
  },
  {
   "cell_type": "code",
   "execution_count": 18,
   "metadata": {},
   "outputs": [],
   "source": [
    "df['MTCI']=(df.B6 - df.B5) / (df.B5 - df.B4)"
   ]
  },
  {
   "cell_type": "code",
   "execution_count": 19,
   "metadata": {},
   "outputs": [],
   "source": [
    "df['NDI45']=(df.B5 - df.B4) / (df.B5 + df.B4)"
   ]
  },
  {
   "cell_type": "code",
   "execution_count": 20,
   "metadata": {},
   "outputs": [],
   "source": [
    "df['NDPI']=(df.B3-df.B11)/(df.B3+df.B11)"
   ]
  },
  {
   "cell_type": "code",
   "execution_count": 21,
   "metadata": {},
   "outputs": [],
   "source": [
    "df['NDRE']=(df.B8 - df.B6) /  (df.B8 + df.B6)"
   ]
  },
  {
   "cell_type": "code",
   "execution_count": 22,
   "metadata": {},
   "outputs": [],
   "source": [
    "df['NDRE2']=(df.B8A - df.B7) / (df.B8A + df.B7)"
   ]
  },
  {
   "cell_type": "code",
   "execution_count": 23,
   "metadata": {},
   "outputs": [],
   "source": [
    "df['NDTI']=(df.B4-df.B3)/(df.B4+df.B3)"
   ]
  },
  {
   "cell_type": "code",
   "execution_count": 24,
   "metadata": {},
   "outputs": [],
   "source": [
    "df['NDVI']=(df.B8-df.B4)/(df.B8+df.B4)"
   ]
  },
  {
   "cell_type": "code",
   "execution_count": 25,
   "metadata": {},
   "outputs": [],
   "source": [
    "df['NDWI']=(df.B8-df.B12)/(df.B8+df.B12)"
   ]
  },
  {
   "cell_type": "code",
   "execution_count": 26,
   "metadata": {},
   "outputs": [],
   "source": [
    "df['NDWI2']=(df.B3-df.B8)/(df.B3+df.B8)"
   ]
  },
  {
   "cell_type": "code",
   "execution_count": 27,
   "metadata": {},
   "outputs": [],
   "source": [
    "df['PSSRA']=(1.0*df.B7)/(1.0*df.B4)"
   ]
  },
  {
   "cell_type": "code",
   "execution_count": 28,
   "metadata": {},
   "outputs": [],
   "source": [
    "df['PVI']=(math.sin(math.radians(45))*df.B8)-(math.cos(math.radians(45))*df.B4)"
   ]
  },
  {
   "cell_type": "code",
   "execution_count": 29,
   "metadata": {},
   "outputs": [],
   "source": [
    "df['REIP']=700 + 40 * ((df.B4 + df.B7)/2 - df.B5) / (df.B6 - df.B5)"
   ]
  },
  {
   "cell_type": "code",
   "execution_count": 30,
   "metadata": {},
   "outputs": [],
   "source": [
    "df['RI']=(df.B4 *df.B4) / ( df.B3* df.B3* df.B3)"
   ]
  },
  {
   "cell_type": "code",
   "execution_count": 31,
   "metadata": {},
   "outputs": [],
   "source": [
    "df['RVI']=(1*df.B8)/(1*df.B4)"
   ]
  },
  {
   "cell_type": "code",
   "execution_count": 32,
   "metadata": {},
   "outputs": [],
   "source": [
    "df['S2REP']=705 + 35 * ((df.B4 + df.B7)/2 - df.B5) / (df.B6 - df.B5)"
   ]
  },
  {
   "cell_type": "code",
   "execution_count": 33,
   "metadata": {},
   "outputs": [],
   "source": [
    "df['SAVI']=(1+0.5)*(1*df.B8-1*df.B4)/(1*df.B8+1*df.B4+0.5)"
   ]
  },
  {
   "cell_type": "code",
   "execution_count": 34,
   "metadata": {},
   "outputs": [],
   "source": [
    "df['TNDVI']=np.sqrt((1*df.B8-1*df.B4)/(1*df.B8+1*df.B4)+0.5)"
   ]
  },
  {
   "cell_type": "code",
   "execution_count": 35,
   "metadata": {},
   "outputs": [],
   "source": [
    "df['TSAVI']=0.5*(df.B8-0.5*df.B4-0.5)/(0.5*df.B8+df.B4-0.5*0.5+0.08*(1+0.5*0.5))"
   ]
  },
  {
   "cell_type": "code",
   "execution_count": 36,
   "metadata": {},
   "outputs": [],
   "source": [
    "df['VARI']=(df.B3 - df.B4) /  (df.B3 + df.B4 - df.B2)"
   ]
  },
  {
   "cell_type": "code",
   "execution_count": 37,
   "metadata": {},
   "outputs": [],
   "source": [
    "df['WDVI']=(df.B8-0.5*df.B4)"
   ]
  },
  {
   "cell_type": "code",
   "execution_count": 38,
   "metadata": {},
   "outputs": [],
   "source": [
    "#Define if  B4 = 0,fapar to wdvi = 0,else return default value\n",
    "x = df.iterrows()\n",
    "for ind, row in x:\n",
    "    if row['B4'] == 0:\n",
    "        df.loc[ind,'fapar':] = 0\n",
    "    #else:\n",
    "        #df.loc[ind,'D':] = 1"
   ]
  },
  {
   "cell_type": "code",
   "execution_count": 39,
   "metadata": {},
   "outputs": [],
   "source": [
    "df.to_excel(r'D:\\Drive2\\Work_Sentinal\\Excel_result\\Yield\\Supan2022_PPR\\SB_20221227_PPR.xlsx') #output location file"
   ]
  },
  {
   "cell_type": "code",
   "execution_count": null,
   "metadata": {},
   "outputs": [],
   "source": []
  }
 ],
 "metadata": {
  "kernelspec": {
   "display_name": "Python 3 (ipykernel)",
   "language": "python",
   "name": "python3"
  },
  "language_info": {
   "codemirror_mode": {
    "name": "ipython",
    "version": 3
   },
   "file_extension": ".py",
   "mimetype": "text/x-python",
   "name": "python",
   "nbconvert_exporter": "python",
   "pygments_lexer": "ipython3",
   "version": "3.9.13"
  }
 },
 "nbformat": 4,
 "nbformat_minor": 2
}
